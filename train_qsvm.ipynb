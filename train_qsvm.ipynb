{
 "cells": [
  {
   "cell_type": "code",
   "execution_count": 1,
   "id": "fifteen-division",
   "metadata": {},
   "outputs": [
    {
     "name": "stderr",
     "output_type": "stream",
     "text": [
      "/opt/conda/lib/python3.8/site-packages/qiskit/providers/ibmq/ibmqfactory.py:192: UserWarning: Timestamps in IBMQ backend properties, jobs, and job results are all now in local time instead of UTC.\n",
      "  warnings.warn('Timestamps in IBMQ backend properties, jobs, and job results '\n"
     ]
    }
   ],
   "source": [
    "%matplotlib inline\n",
    "# Importing standard Qiskit libraries\n",
    "from qiskit import QuantumCircuit, execute, Aer, IBMQ\n",
    "from qiskit.compiler import transpile, assemble\n",
    "from qiskit.tools.jupyter import *\n",
    "from qiskit.visualization import *\n",
    "from ibm_quantum_widgets import *\n",
    "\n",
    "# Loading your IBM Q account(s)\n",
    "provider = IBMQ.load_account()"
   ]
  },
  {
   "cell_type": "code",
   "execution_count": 2,
   "id": "lasting-switch",
   "metadata": {},
   "outputs": [
    {
     "name": "stdout",
     "output_type": "stream",
     "text": [
      "Necessary libraries and packages are imported successfully!\n"
     ]
    }
   ],
   "source": [
    "# for plotting\n",
    "import matplotlib.pyplot as plt\n",
    "# for matrix and linear algebra\n",
    "import numpy as np\n",
    "# preinstalled dataset\n",
    "from qiskit.ml.datasets import ad_hoc_data\n",
    "# basic simulator\n",
    "from qiskit import BasicAer\n",
    "# import Quantm Instance to run the experiment\n",
    "from qiskit.aqua import QuantumInstance\n",
    "# import quantum feature map\n",
    "from qiskit.circuit.library import ZZFeatureMap\n",
    "# import Quantum Support vector Machine model\n",
    "from qiskit.aqua.algorithms import QSVM\n",
    "# import several useful unitilies\n",
    "from qiskit.aqua.utils import split_dataset_to_data_and_labels, map_label_to_class_name\n",
    "#\n",
    "print(\"Necessary libraries and packages are imported successfully!\")"
   ]
  },
  {
   "cell_type": "code",
   "execution_count": 4,
   "id": "settled-discussion",
   "metadata": {},
   "outputs": [],
   "source": [
    "random_seed = 42\n",
    "# set shots/ number of iteration\n",
    "shot = 1000"
   ]
  },
  {
   "cell_type": "code",
   "execution_count": 5,
   "id": "understanding-collectible",
   "metadata": {},
   "outputs": [],
   "source": [
    "import pandas as pd\n",
    "from sklearn.model_selection import train_test_split"
   ]
  },
  {
   "cell_type": "code",
   "execution_count": 6,
   "id": "billion-gather",
   "metadata": {},
   "outputs": [],
   "source": [
    "url = 'https://raw.githubusercontent.com/denniszhao97/MSiA_Hackathon/main/input_data.csv'\n",
    "data = pd.read_csv(url)"
   ]
  },
  {
   "cell_type": "code",
   "execution_count": 7,
   "id": "floating-suicide",
   "metadata": {},
   "outputs": [
    {
     "data": {
      "text/html": [
       "<div>\n",
       "<style scoped>\n",
       "    .dataframe tbody tr th:only-of-type {\n",
       "        vertical-align: middle;\n",
       "    }\n",
       "\n",
       "    .dataframe tbody tr th {\n",
       "        vertical-align: top;\n",
       "    }\n",
       "\n",
       "    .dataframe thead th {\n",
       "        text-align: right;\n",
       "    }\n",
       "</style>\n",
       "<table border=\"1\" class=\"dataframe\">\n",
       "  <thead>\n",
       "    <tr style=\"text-align: right;\">\n",
       "      <th></th>\n",
       "      <th>Median Income</th>\n",
       "      <th>poverty_rate</th>\n",
       "      <th>percent_completed_hs</th>\n",
       "      <th>share_white</th>\n",
       "      <th>share_black</th>\n",
       "      <th>share_native_american</th>\n",
       "      <th>share_asian</th>\n",
       "      <th>share_hispanic</th>\n",
       "      <th>police_killing</th>\n",
       "    </tr>\n",
       "  </thead>\n",
       "  <tbody>\n",
       "    <tr>\n",
       "      <th>0</th>\n",
       "      <td>11207.0</td>\n",
       "      <td>78.8</td>\n",
       "      <td>21.2</td>\n",
       "      <td>67.2</td>\n",
       "      <td>30.2</td>\n",
       "      <td>0.0</td>\n",
       "      <td>0.0</td>\n",
       "      <td>1.6</td>\n",
       "      <td>0.0</td>\n",
       "    </tr>\n",
       "    <tr>\n",
       "      <th>1</th>\n",
       "      <td>25615.0</td>\n",
       "      <td>29.1</td>\n",
       "      <td>69.1</td>\n",
       "      <td>54.4</td>\n",
       "      <td>41.4</td>\n",
       "      <td>0.1</td>\n",
       "      <td>1.0</td>\n",
       "      <td>3.1</td>\n",
       "      <td>1.0</td>\n",
       "    </tr>\n",
       "    <tr>\n",
       "      <th>2</th>\n",
       "      <td>42575.0</td>\n",
       "      <td>25.5</td>\n",
       "      <td>78.9</td>\n",
       "      <td>52.3</td>\n",
       "      <td>44.9</td>\n",
       "      <td>0.5</td>\n",
       "      <td>0.3</td>\n",
       "      <td>2.3</td>\n",
       "      <td>0.0</td>\n",
       "    </tr>\n",
       "    <tr>\n",
       "      <th>3</th>\n",
       "      <td>37083.0</td>\n",
       "      <td>30.7</td>\n",
       "      <td>81.4</td>\n",
       "      <td>99.1</td>\n",
       "      <td>0.1</td>\n",
       "      <td>0.0</td>\n",
       "      <td>0.1</td>\n",
       "      <td>0.4</td>\n",
       "      <td>0.0</td>\n",
       "    </tr>\n",
       "    <tr>\n",
       "      <th>4</th>\n",
       "      <td>21667.0</td>\n",
       "      <td>42.0</td>\n",
       "      <td>68.6</td>\n",
       "      <td>13.2</td>\n",
       "      <td>86.5</td>\n",
       "      <td>0.0</td>\n",
       "      <td>0.0</td>\n",
       "      <td>0.3</td>\n",
       "      <td>0.0</td>\n",
       "    </tr>\n",
       "  </tbody>\n",
       "</table>\n",
       "</div>"
      ],
      "text/plain": [
       "   Median Income  poverty_rate  percent_completed_hs  share_white  \\\n",
       "0        11207.0          78.8                  21.2         67.2   \n",
       "1        25615.0          29.1                  69.1         54.4   \n",
       "2        42575.0          25.5                  78.9         52.3   \n",
       "3        37083.0          30.7                  81.4         99.1   \n",
       "4        21667.0          42.0                  68.6         13.2   \n",
       "\n",
       "   share_black  share_native_american  share_asian  share_hispanic  \\\n",
       "0         30.2                    0.0          0.0             1.6   \n",
       "1         41.4                    0.1          1.0             3.1   \n",
       "2         44.9                    0.5          0.3             2.3   \n",
       "3          0.1                    0.0          0.1             0.4   \n",
       "4         86.5                    0.0          0.0             0.3   \n",
       "\n",
       "   police_killing  \n",
       "0             0.0  \n",
       "1             1.0  \n",
       "2             0.0  \n",
       "3             0.0  \n",
       "4             0.0  "
      ]
     },
     "execution_count": 7,
     "metadata": {},
     "output_type": "execute_result"
    }
   ],
   "source": [
    "data.loc[data[\"Median Income\"] == \"2,500-\", \"Median Income\"] = \"2500\"\n",
    "data.loc[data[\"Median Income\"] == \"250,000+\", \"Median Income\"] = \"250000\"\n",
    "data[\"Median Income\"] = data[\"Median Income\"].astype(float)\n",
    "data.head()"
   ]
  },
  {
   "cell_type": "code",
   "execution_count": 8,
   "id": "medical-envelope",
   "metadata": {},
   "outputs": [],
   "source": [
    "X_train, X_test, y_train, y_test = train_test_split(data.iloc[:,:-1], data['police_killing'], test_size=0.04, random_state=1)\n",
    "feature_dimension = len(X_train.columns)\n",
    "y_train_keep = y_train[y_train == 1]\n",
    "X_train_keep = X_train[y_train == 1]\n",
    "y_train_resample = y_train[y_train != 1]\n",
    "X_train_resample = X_train[y_train != 1]\n",
    "X_train_resample, _, y_train_resample, _ = train_test_split(X_train_resample, y_train_resample, \n",
    "                                                            test_size = 0.95, random_state=42)\n",
    "X_train = pd.concat([X_train_keep, X_train_resample])# keep y = 1, resmaple y = 0\n",
    "y_train = pd.Series(np.concatenate([y_train_keep, y_train_resample]))"
   ]
  },
  {
   "cell_type": "code",
   "execution_count": 9,
   "id": "original-comparative",
   "metadata": {},
   "outputs": [],
   "source": [
    "from sklearn.preprocessing import StandardScaler\n",
    "scaler = StandardScaler()"
   ]
  },
  {
   "cell_type": "code",
   "execution_count": 13,
   "id": "coupled-completion",
   "metadata": {},
   "outputs": [],
   "source": [
    "train_input = {}\n",
    "scaler.fit(X_train)\n",
    "value_0 = scaler.transform(X_train_resample)\n",
    "value_1 = scaler.transform(X_train_keep)\n",
    "\n",
    "train_input['0'] = value_0[:30,:5]\n",
    "train_input['1'] = value_1[:30,:5]\n",
    "\n",
    "test_input = {}\n",
    "my_list = y_test[y_test == 0].index.to_list()\n",
    "filter_0 = X_test[X_test.index.isin(my_list)]\n",
    "scaler.fit(X_test)\n",
    "value_0 = scaler.transform(filter_0)\n",
    "\n",
    "my_list = y_test[y_test== 1].index.to_list()\n",
    "filter_1 = X_test[X_test.index.isin(my_list)]\n",
    "value_1 = scaler.transform(filter_1)\n",
    "\n",
    "test_input['0'] = value_0[:30,:5]\n",
    "test_input['1'] = value_1[:30,:5]"
   ]
  },
  {
   "cell_type": "code",
   "execution_count": 13,
   "id": "derived-methodology",
   "metadata": {},
   "outputs": [],
   "source": [
    "import pandas as pd"
   ]
  },
  {
   "cell_type": "code",
   "execution_count": 101,
   "id": "young-apollo",
   "metadata": {},
   "outputs": [],
   "source": [
    "url = 'https://raw.githubusercontent.com/denniszhao97/MSiA_Hackathon/main/input_data.csv'\n",
    "data = pd.read_csv(url,index_col=0)"
   ]
  },
  {
   "cell_type": "code",
   "execution_count": 41,
   "id": "curious-think",
   "metadata": {},
   "outputs": [
    {
     "data": {
      "text/html": [
       "<div>\n",
       "<style scoped>\n",
       "    .dataframe tbody tr th:only-of-type {\n",
       "        vertical-align: middle;\n",
       "    }\n",
       "\n",
       "    .dataframe tbody tr th {\n",
       "        vertical-align: top;\n",
       "    }\n",
       "\n",
       "    .dataframe thead th {\n",
       "        text-align: right;\n",
       "    }\n",
       "</style>\n",
       "<table border=\"1\" class=\"dataframe\">\n",
       "  <thead>\n",
       "    <tr style=\"text-align: right;\">\n",
       "      <th></th>\n",
       "      <th>Median Income</th>\n",
       "      <th>poverty_rate</th>\n",
       "      <th>percent_completed_hs</th>\n",
       "      <th>share_white</th>\n",
       "      <th>share_black</th>\n",
       "      <th>share_native_american</th>\n",
       "      <th>share_asian</th>\n",
       "      <th>share_hispanic</th>\n",
       "      <th>police_killing</th>\n",
       "    </tr>\n",
       "  </thead>\n",
       "  <tbody>\n",
       "    <tr>\n",
       "      <th>0</th>\n",
       "      <td>11207</td>\n",
       "      <td>78.8</td>\n",
       "      <td>21.2</td>\n",
       "      <td>67.2</td>\n",
       "      <td>30.2</td>\n",
       "      <td>0</td>\n",
       "      <td>0</td>\n",
       "      <td>1.6</td>\n",
       "      <td>0.0</td>\n",
       "    </tr>\n",
       "    <tr>\n",
       "      <th>1</th>\n",
       "      <td>25615</td>\n",
       "      <td>29.1</td>\n",
       "      <td>69.1</td>\n",
       "      <td>54.4</td>\n",
       "      <td>41.4</td>\n",
       "      <td>0.1</td>\n",
       "      <td>1</td>\n",
       "      <td>3.1</td>\n",
       "      <td>1.0</td>\n",
       "    </tr>\n",
       "    <tr>\n",
       "      <th>2</th>\n",
       "      <td>42575</td>\n",
       "      <td>25.5</td>\n",
       "      <td>78.9</td>\n",
       "      <td>52.3</td>\n",
       "      <td>44.9</td>\n",
       "      <td>0.5</td>\n",
       "      <td>0.3</td>\n",
       "      <td>2.3</td>\n",
       "      <td>0.0</td>\n",
       "    </tr>\n",
       "    <tr>\n",
       "      <th>3</th>\n",
       "      <td>37083</td>\n",
       "      <td>30.7</td>\n",
       "      <td>81.4</td>\n",
       "      <td>99.1</td>\n",
       "      <td>0.1</td>\n",
       "      <td>0</td>\n",
       "      <td>0.1</td>\n",
       "      <td>0.4</td>\n",
       "      <td>0.0</td>\n",
       "    </tr>\n",
       "    <tr>\n",
       "      <th>4</th>\n",
       "      <td>21667</td>\n",
       "      <td>42</td>\n",
       "      <td>68.6</td>\n",
       "      <td>13.2</td>\n",
       "      <td>86.5</td>\n",
       "      <td>0</td>\n",
       "      <td>0</td>\n",
       "      <td>0.3</td>\n",
       "      <td>0.0</td>\n",
       "    </tr>\n",
       "    <tr>\n",
       "      <th>...</th>\n",
       "      <td>...</td>\n",
       "      <td>...</td>\n",
       "      <td>...</td>\n",
       "      <td>...</td>\n",
       "      <td>...</td>\n",
       "      <td>...</td>\n",
       "      <td>...</td>\n",
       "      <td>...</td>\n",
       "      <td>...</td>\n",
       "    </tr>\n",
       "    <tr>\n",
       "      <th>30518</th>\n",
       "      <td>NaN</td>\n",
       "      <td>18.6</td>\n",
       "      <td>100</td>\n",
       "      <td>95.9</td>\n",
       "      <td>0</td>\n",
       "      <td>0</td>\n",
       "      <td>2.1</td>\n",
       "      <td>0</td>\n",
       "      <td>0.0</td>\n",
       "    </tr>\n",
       "    <tr>\n",
       "      <th>30519</th>\n",
       "      <td>41523</td>\n",
       "      <td>15.3</td>\n",
       "      <td>85.6</td>\n",
       "      <td>89.9</td>\n",
       "      <td>0.3</td>\n",
       "      <td>1.3</td>\n",
       "      <td>0.6</td>\n",
       "      <td>16.6</td>\n",
       "      <td>0.0</td>\n",
       "    </tr>\n",
       "    <tr>\n",
       "      <th>30520</th>\n",
       "      <td>77114</td>\n",
       "      <td>5.9</td>\n",
       "      <td>89.2</td>\n",
       "      <td>94.5</td>\n",
       "      <td>0.1</td>\n",
       "      <td>1.4</td>\n",
       "      <td>0.2</td>\n",
       "      <td>6.2</td>\n",
       "      <td>0.0</td>\n",
       "    </tr>\n",
       "    <tr>\n",
       "      <th>30521</th>\n",
       "      <td>37500</td>\n",
       "      <td>5.4</td>\n",
       "      <td>79.4</td>\n",
       "      <td>97.4</td>\n",
       "      <td>0</td>\n",
       "      <td>0</td>\n",
       "      <td>0</td>\n",
       "      <td>4</td>\n",
       "      <td>0.0</td>\n",
       "    </tr>\n",
       "    <tr>\n",
       "      <th>30522</th>\n",
       "      <td>NaN</td>\n",
       "      <td>0</td>\n",
       "      <td>100</td>\n",
       "      <td>92.8</td>\n",
       "      <td>1.5</td>\n",
       "      <td>2.6</td>\n",
       "      <td>0</td>\n",
       "      <td>11.8</td>\n",
       "      <td>0.0</td>\n",
       "    </tr>\n",
       "  </tbody>\n",
       "</table>\n",
       "<p>30523 rows × 9 columns</p>\n",
       "</div>"
      ],
      "text/plain": [
       "      Median Income poverty_rate percent_completed_hs share_white share_black  \\\n",
       "0             11207         78.8                 21.2        67.2        30.2   \n",
       "1             25615         29.1                 69.1        54.4        41.4   \n",
       "2             42575         25.5                 78.9        52.3        44.9   \n",
       "3             37083         30.7                 81.4        99.1         0.1   \n",
       "4             21667           42                 68.6        13.2        86.5   \n",
       "...             ...          ...                  ...         ...         ...   \n",
       "30518           NaN         18.6                  100        95.9           0   \n",
       "30519         41523         15.3                 85.6        89.9         0.3   \n",
       "30520         77114          5.9                 89.2        94.5         0.1   \n",
       "30521         37500          5.4                 79.4        97.4           0   \n",
       "30522           NaN            0                  100        92.8         1.5   \n",
       "\n",
       "      share_native_american share_asian share_hispanic  police_killing  \n",
       "0                         0           0            1.6             0.0  \n",
       "1                       0.1           1            3.1             1.0  \n",
       "2                       0.5         0.3            2.3             0.0  \n",
       "3                         0         0.1            0.4             0.0  \n",
       "4                         0           0            0.3             0.0  \n",
       "...                     ...         ...            ...             ...  \n",
       "30518                     0         2.1              0             0.0  \n",
       "30519                   1.3         0.6           16.6             0.0  \n",
       "30520                   1.4         0.2            6.2             0.0  \n",
       "30521                     0           0              4             0.0  \n",
       "30522                   2.6           0           11.8             0.0  \n",
       "\n",
       "[30523 rows x 9 columns]"
      ]
     },
     "execution_count": 41,
     "metadata": {},
     "output_type": "execute_result"
    }
   ],
   "source": [
    "data"
   ]
  },
  {
   "cell_type": "code",
   "execution_count": null,
   "id": "advised-binding",
   "metadata": {},
   "outputs": [],
   "source": []
  },
  {
   "cell_type": "code",
   "execution_count": 102,
   "id": "greater-borough",
   "metadata": {},
   "outputs": [],
   "source": [
    "from sklearn.model_selection import train_test_split"
   ]
  },
  {
   "cell_type": "code",
   "execution_count": 103,
   "id": "religious-skating",
   "metadata": {},
   "outputs": [],
   "source": [
    "X_train, X_test, y_train, y_test = train_test_split(data.iloc[:,:-1], data['police_killing'], test_size=0.3, random_state=1)\n",
    "feature_dimension = len(X_train.columns)"
   ]
  },
  {
   "cell_type": "code",
   "execution_count": 16,
   "id": "right-stomach",
   "metadata": {},
   "outputs": [],
   "source": [
    "train_input = {}\n",
    "scaler = StandardScaler()\n",
    "scaler.fit(X_train)\n",
    "value_0 = scaler.transform(X_train_resample)\n",
    "value_1 = scaler.transform(X_train_keep)\n",
    "\n",
    "train_input['0'] = value_0[:20,:5]\n",
    "train_input['1'] = value_1[:20,:5]\n",
    "\n",
    "test_input = {}\n",
    "my_list = y_test[y_test == 0].index.to_list()\n",
    "filter_0 = X_test[X_test.index.isin(my_list)]\n",
    "scaler.fit(X_test)\n",
    "value_0 = scaler.transform(filter_0)\n",
    "\n",
    "my_list = y_test[y_test== 1].index.to_list()\n",
    "filter_1 = X_test[X_test.index.isin(my_list)]\n",
    "value_1 = scaler.transform(filter_1)\n",
    "\n",
    "test_input['0'] = value_0[:38,:5]\n",
    "test_input['1'] = value_1[:2,:5]"
   ]
  },
  {
   "cell_type": "code",
   "execution_count": 17,
   "id": "personal-perfume",
   "metadata": {},
   "outputs": [],
   "source": [
    "# use the qasm simulator\n",
    "backend = BasicAer.get_backend('qasm_simulator')\n",
    "feature_map = ZZFeatureMap(5, reps=2,entanglement='linear')\n",
    "qsvm = QSVM(feature_map, train_input, test_input, np.concatenate([test_input['0'],test_input['1']]))\n",
    "\n",
    "# set the random seed for this qsvm\n",
    "qsvm.random_seed = random_seed\n",
    "# setup the quantum instance to run the experiment\n",
    "quantum_instance = QuantumInstance(backend, shots=shot, seed_simulator=random_seed, seed_transpiler=random_seed)"
   ]
  },
  {
   "cell_type": "code",
   "execution_count": 18,
   "id": "acknowledged-establishment",
   "metadata": {},
   "outputs": [],
   "source": [
    "# get the result from the above designed experiment on the quantum_instance\n",
    "result = qsvm.run(quantum_instance)"
   ]
  },
  {
   "cell_type": "code",
   "execution_count": null,
   "id": "reasonable-grade",
   "metadata": {},
   "outputs": [],
   "source": [
    "# set the random seed for this qsvm\n",
    "qsvm.random_seed = random_seed\n",
    "# setup the quantum instance to run the experiment\n",
    "quantum_instance = QuantumInstance(backend, shots=shot, seed_simulator=random_seed, seed_transpiler=random_seed)\n",
    "# get the result from the above designed experiment on the quantum_instance\n",
    "result = qsvm.run(quantum_instance)"
   ]
  },
  {
   "cell_type": "code",
   "execution_count": 20,
   "id": "anonymous-triumph",
   "metadata": {},
   "outputs": [],
   "source": [
    "y_pred = result['predicted_labels']"
   ]
  },
  {
   "cell_type": "code",
   "execution_count": 27,
   "id": "altered-allocation",
   "metadata": {},
   "outputs": [],
   "source": [
    "Y_test = [0 for i in range(38)]\n",
    "Y_test.append(1)\n",
    "Y_test.append(1)"
   ]
  },
  {
   "cell_type": "code",
   "execution_count": 25,
   "id": "effective-swaziland",
   "metadata": {},
   "outputs": [],
   "source": [
    "from sklearn.metrics import confusion_matrix\n",
    "conf_mat = confusion_matrix(Y_test, temp)"
   ]
  },
  {
   "cell_type": "code",
   "execution_count": 26,
   "id": "cooked-assist",
   "metadata": {},
   "outputs": [
    {
     "data": {
      "text/plain": [
       "array([[19, 19],\n",
       "       [ 0,  2]])"
      ]
     },
     "execution_count": 26,
     "metadata": {},
     "output_type": "execute_result"
    }
   ],
   "source": [
    "conf_mat"
   ]
  },
  {
   "cell_type": "code",
   "execution_count": null,
   "id": "rapid-moment",
   "metadata": {},
   "outputs": [],
   "source": []
  }
 ],
 "metadata": {
  "kernelspec": {
   "display_name": "Python 3",
   "language": "python",
   "name": "python3"
  },
  "language_info": {
   "codemirror_mode": {
    "name": "ipython",
    "version": 3
   },
   "file_extension": ".py",
   "mimetype": "text/x-python",
   "name": "python",
   "nbconvert_exporter": "python",
   "pygments_lexer": "ipython3",
   "version": "3.8.6"
  }
 },
 "nbformat": 4,
 "nbformat_minor": 5
}
