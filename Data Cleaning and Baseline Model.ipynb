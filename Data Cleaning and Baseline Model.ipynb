{
 "cells": [
  {
   "cell_type": "markdown",
   "metadata": {},
   "source": [
    "## Data Cleaning"
   ]
  },
  {
   "cell_type": "code",
   "execution_count": 1,
   "metadata": {},
   "outputs": [],
   "source": [
    "import pandas as pd\n",
    "import numpy as np\n",
    "from functools import reduce"
   ]
  },
  {
   "cell_type": "code",
   "execution_count": 2,
   "metadata": {},
   "outputs": [],
   "source": [
    "def clean_city_name(string):\n",
    "    lst = string.split()\n",
    "    new_string = \" \".join(lst[0:(len(lst)-1)])\n",
    "    return new_string"
   ]
  },
  {
   "cell_type": "code",
   "execution_count": 3,
   "metadata": {},
   "outputs": [],
   "source": [
    "def killing_rename_city(string):\n",
    "    lst = string.split()\n",
    "    if lst[-1].lower() == \"county\":\n",
    "        new_string = \" \".join(lst[0:(len(lst)-1)])\n",
    "        return new_string\n",
    "    else:\n",
    "        return string"
   ]
  },
  {
   "cell_type": "code",
   "execution_count": 4,
   "metadata": {},
   "outputs": [
    {
     "data": {
      "text/html": [
       "<div>\n",
       "<style scoped>\n",
       "    .dataframe tbody tr th:only-of-type {\n",
       "        vertical-align: middle;\n",
       "    }\n",
       "\n",
       "    .dataframe tbody tr th {\n",
       "        vertical-align: top;\n",
       "    }\n",
       "\n",
       "    .dataframe thead th {\n",
       "        text-align: right;\n",
       "    }\n",
       "</style>\n",
       "<table border=\"1\" class=\"dataframe\">\n",
       "  <thead>\n",
       "    <tr style=\"text-align: right;\">\n",
       "      <th></th>\n",
       "      <th>Geographic Area</th>\n",
       "      <th>City</th>\n",
       "      <th>Median Income</th>\n",
       "    </tr>\n",
       "  </thead>\n",
       "  <tbody>\n",
       "    <tr>\n",
       "      <th>0</th>\n",
       "      <td>AL</td>\n",
       "      <td>Abanda</td>\n",
       "      <td>11207</td>\n",
       "    </tr>\n",
       "    <tr>\n",
       "      <th>1</th>\n",
       "      <td>AL</td>\n",
       "      <td>Abbeville</td>\n",
       "      <td>25615</td>\n",
       "    </tr>\n",
       "    <tr>\n",
       "      <th>2</th>\n",
       "      <td>AL</td>\n",
       "      <td>Adamsville</td>\n",
       "      <td>42575</td>\n",
       "    </tr>\n",
       "    <tr>\n",
       "      <th>3</th>\n",
       "      <td>AL</td>\n",
       "      <td>Addison</td>\n",
       "      <td>37083</td>\n",
       "    </tr>\n",
       "    <tr>\n",
       "      <th>4</th>\n",
       "      <td>AL</td>\n",
       "      <td>Akron</td>\n",
       "      <td>21667</td>\n",
       "    </tr>\n",
       "  </tbody>\n",
       "</table>\n",
       "</div>"
      ],
      "text/plain": [
       "  Geographic Area        City Median Income\n",
       "0              AL      Abanda         11207\n",
       "1              AL   Abbeville         25615\n",
       "2              AL  Adamsville         42575\n",
       "3              AL     Addison         37083\n",
       "4              AL       Akron         21667"
      ]
     },
     "execution_count": 4,
     "metadata": {},
     "output_type": "execute_result"
    }
   ],
   "source": [
    "income = pd.read_csv(\"MedianHouseholdIncome2015.csv\", encoding=\"windows-1252\", na_values=[\"(X)\", \"-\"])\n",
    "income[\"City\"] = income[\"City\"].apply(clean_city_name)\n",
    "income.head()"
   ]
  },
  {
   "cell_type": "code",
   "execution_count": 5,
   "metadata": {},
   "outputs": [
    {
     "data": {
      "text/plain": [
       "(29329, 3)"
      ]
     },
     "execution_count": 5,
     "metadata": {},
     "output_type": "execute_result"
    }
   ],
   "source": [
    "poverty = pd.read_csv(\"PercentagePeopleBelowPovertyLevel.csv\", encoding=\"windows-1252\", na_values=[\"(X)\", \"-\"])\n",
    "poverty[\"City\"] = poverty[\"City\"].apply(clean_city_name)\n",
    "poverty.shape"
   ]
  },
  {
   "cell_type": "code",
   "execution_count": 6,
   "metadata": {},
   "outputs": [
    {
     "data": {
      "text/plain": [
       "(29329, 3)"
      ]
     },
     "execution_count": 6,
     "metadata": {},
     "output_type": "execute_result"
    }
   ],
   "source": [
    "education = pd.read_csv(\"PercentOver25CompletedHighSchool.csv\", encoding=\"windows-1252\", na_values=[\"(X)\", \"-\"])\n",
    "education[\"City\"] = education[\"City\"].apply(clean_city_name)\n",
    "education.shape"
   ]
  },
  {
   "cell_type": "code",
   "execution_count": 7,
   "metadata": {},
   "outputs": [
    {
     "data": {
      "text/plain": [
       "(29268, 7)"
      ]
     },
     "execution_count": 7,
     "metadata": {},
     "output_type": "execute_result"
    }
   ],
   "source": [
    "race = pd.read_csv(\"ShareRaceByCity.csv\", encoding=\"windows-1252\", na_values=[\"(X)\", \"-\"])\n",
    "race.rename(columns={\"Geographic area\": \"Geographic Area\"}, inplace=True)\n",
    "race[\"City\"] = race[\"City\"].apply(clean_city_name)\n",
    "race.shape"
   ]
  },
  {
   "cell_type": "code",
   "execution_count": 8,
   "metadata": {},
   "outputs": [],
   "source": [
    "killing = pd.read_csv(\"PoliceKillingsUS.csv\", encoding=\"windows-1252\", na_values=[\"(X)\", \"-\"])\n",
    "killing[\"city\"] = killing[\"city\"].apply(killing_rename_city)\n",
    "killing = pd.DataFrame(killing.groupby([\"city\", \"state\"])[\"id\"].count())\n",
    "killing.columns = [\"police_killing\"]\n",
    "killing[\"police_killing\"] = 1\n",
    "killing.reset_index(inplace=True)"
   ]
  },
  {
   "cell_type": "code",
   "execution_count": 9,
   "metadata": {},
   "outputs": [
    {
     "data": {
      "text/html": [
       "<div>\n",
       "<style scoped>\n",
       "    .dataframe tbody tr th:only-of-type {\n",
       "        vertical-align: middle;\n",
       "    }\n",
       "\n",
       "    .dataframe tbody tr th {\n",
       "        vertical-align: top;\n",
       "    }\n",
       "\n",
       "    .dataframe thead th {\n",
       "        text-align: right;\n",
       "    }\n",
       "</style>\n",
       "<table border=\"1\" class=\"dataframe\">\n",
       "  <thead>\n",
       "    <tr style=\"text-align: right;\">\n",
       "      <th></th>\n",
       "      <th>Geographic Area</th>\n",
       "      <th>City</th>\n",
       "      <th>Median Income</th>\n",
       "      <th>poverty_rate</th>\n",
       "      <th>percent_completed_hs</th>\n",
       "      <th>share_white</th>\n",
       "      <th>share_black</th>\n",
       "      <th>share_native_american</th>\n",
       "      <th>share_asian</th>\n",
       "      <th>share_hispanic</th>\n",
       "    </tr>\n",
       "  </thead>\n",
       "  <tbody>\n",
       "    <tr>\n",
       "      <th>0</th>\n",
       "      <td>AL</td>\n",
       "      <td>Abanda</td>\n",
       "      <td>11207</td>\n",
       "      <td>78.8</td>\n",
       "      <td>21.2</td>\n",
       "      <td>67.2</td>\n",
       "      <td>30.2</td>\n",
       "      <td>0.0</td>\n",
       "      <td>0.0</td>\n",
       "      <td>1.6</td>\n",
       "    </tr>\n",
       "    <tr>\n",
       "      <th>1</th>\n",
       "      <td>AL</td>\n",
       "      <td>Abbeville</td>\n",
       "      <td>25615</td>\n",
       "      <td>29.1</td>\n",
       "      <td>69.1</td>\n",
       "      <td>54.4</td>\n",
       "      <td>41.4</td>\n",
       "      <td>0.1</td>\n",
       "      <td>1.0</td>\n",
       "      <td>3.1</td>\n",
       "    </tr>\n",
       "    <tr>\n",
       "      <th>2</th>\n",
       "      <td>AL</td>\n",
       "      <td>Adamsville</td>\n",
       "      <td>42575</td>\n",
       "      <td>25.5</td>\n",
       "      <td>78.9</td>\n",
       "      <td>52.3</td>\n",
       "      <td>44.9</td>\n",
       "      <td>0.5</td>\n",
       "      <td>0.3</td>\n",
       "      <td>2.3</td>\n",
       "    </tr>\n",
       "    <tr>\n",
       "      <th>3</th>\n",
       "      <td>AL</td>\n",
       "      <td>Addison</td>\n",
       "      <td>37083</td>\n",
       "      <td>30.7</td>\n",
       "      <td>81.4</td>\n",
       "      <td>99.1</td>\n",
       "      <td>0.1</td>\n",
       "      <td>0.0</td>\n",
       "      <td>0.1</td>\n",
       "      <td>0.4</td>\n",
       "    </tr>\n",
       "    <tr>\n",
       "      <th>4</th>\n",
       "      <td>AL</td>\n",
       "      <td>Akron</td>\n",
       "      <td>21667</td>\n",
       "      <td>42.0</td>\n",
       "      <td>68.6</td>\n",
       "      <td>13.2</td>\n",
       "      <td>86.5</td>\n",
       "      <td>0.0</td>\n",
       "      <td>0.0</td>\n",
       "      <td>0.3</td>\n",
       "    </tr>\n",
       "    <tr>\n",
       "      <th>...</th>\n",
       "      <td>...</td>\n",
       "      <td>...</td>\n",
       "      <td>...</td>\n",
       "      <td>...</td>\n",
       "      <td>...</td>\n",
       "      <td>...</td>\n",
       "      <td>...</td>\n",
       "      <td>...</td>\n",
       "      <td>...</td>\n",
       "      <td>...</td>\n",
       "    </tr>\n",
       "    <tr>\n",
       "      <th>30518</th>\n",
       "      <td>WY</td>\n",
       "      <td>Woods Landing-Jelm</td>\n",
       "      <td>NaN</td>\n",
       "      <td>18.6</td>\n",
       "      <td>100.0</td>\n",
       "      <td>95.9</td>\n",
       "      <td>0.0</td>\n",
       "      <td>0.0</td>\n",
       "      <td>2.1</td>\n",
       "      <td>0.0</td>\n",
       "    </tr>\n",
       "    <tr>\n",
       "      <th>30519</th>\n",
       "      <td>WY</td>\n",
       "      <td>Worland</td>\n",
       "      <td>41523</td>\n",
       "      <td>15.3</td>\n",
       "      <td>85.6</td>\n",
       "      <td>89.9</td>\n",
       "      <td>0.3</td>\n",
       "      <td>1.3</td>\n",
       "      <td>0.6</td>\n",
       "      <td>16.6</td>\n",
       "    </tr>\n",
       "    <tr>\n",
       "      <th>30520</th>\n",
       "      <td>WY</td>\n",
       "      <td>Wright</td>\n",
       "      <td>77114</td>\n",
       "      <td>5.9</td>\n",
       "      <td>89.2</td>\n",
       "      <td>94.5</td>\n",
       "      <td>0.1</td>\n",
       "      <td>1.4</td>\n",
       "      <td>0.2</td>\n",
       "      <td>6.2</td>\n",
       "    </tr>\n",
       "    <tr>\n",
       "      <th>30521</th>\n",
       "      <td>WY</td>\n",
       "      <td>Yoder</td>\n",
       "      <td>37500</td>\n",
       "      <td>5.4</td>\n",
       "      <td>79.4</td>\n",
       "      <td>97.4</td>\n",
       "      <td>0.0</td>\n",
       "      <td>0.0</td>\n",
       "      <td>0.0</td>\n",
       "      <td>4.0</td>\n",
       "    </tr>\n",
       "    <tr>\n",
       "      <th>30522</th>\n",
       "      <td>WY</td>\n",
       "      <td>Y-O Ranch</td>\n",
       "      <td>NaN</td>\n",
       "      <td>0.0</td>\n",
       "      <td>100.0</td>\n",
       "      <td>92.8</td>\n",
       "      <td>1.5</td>\n",
       "      <td>2.6</td>\n",
       "      <td>0.0</td>\n",
       "      <td>11.8</td>\n",
       "    </tr>\n",
       "  </tbody>\n",
       "</table>\n",
       "<p>30523 rows × 10 columns</p>\n",
       "</div>"
      ],
      "text/plain": [
       "      Geographic Area                City Median Income  poverty_rate  \\\n",
       "0                  AL              Abanda         11207          78.8   \n",
       "1                  AL           Abbeville         25615          29.1   \n",
       "2                  AL          Adamsville         42575          25.5   \n",
       "3                  AL             Addison         37083          30.7   \n",
       "4                  AL               Akron         21667          42.0   \n",
       "...               ...                 ...           ...           ...   \n",
       "30518              WY  Woods Landing-Jelm           NaN          18.6   \n",
       "30519              WY             Worland         41523          15.3   \n",
       "30520              WY              Wright         77114           5.9   \n",
       "30521              WY               Yoder         37500           5.4   \n",
       "30522              WY           Y-O Ranch           NaN           0.0   \n",
       "\n",
       "       percent_completed_hs  share_white  share_black  share_native_american  \\\n",
       "0                      21.2         67.2         30.2                    0.0   \n",
       "1                      69.1         54.4         41.4                    0.1   \n",
       "2                      78.9         52.3         44.9                    0.5   \n",
       "3                      81.4         99.1          0.1                    0.0   \n",
       "4                      68.6         13.2         86.5                    0.0   \n",
       "...                     ...          ...          ...                    ...   \n",
       "30518                 100.0         95.9          0.0                    0.0   \n",
       "30519                  85.6         89.9          0.3                    1.3   \n",
       "30520                  89.2         94.5          0.1                    1.4   \n",
       "30521                  79.4         97.4          0.0                    0.0   \n",
       "30522                 100.0         92.8          1.5                    2.6   \n",
       "\n",
       "       share_asian  share_hispanic  \n",
       "0              0.0             1.6  \n",
       "1              1.0             3.1  \n",
       "2              0.3             2.3  \n",
       "3              0.1             0.4  \n",
       "4              0.0             0.3  \n",
       "...            ...             ...  \n",
       "30518          2.1             0.0  \n",
       "30519          0.6            16.6  \n",
       "30520          0.2             6.2  \n",
       "30521          0.0             4.0  \n",
       "30522          0.0            11.8  \n",
       "\n",
       "[30523 rows x 10 columns]"
      ]
     },
     "execution_count": 9,
     "metadata": {},
     "output_type": "execute_result"
    }
   ],
   "source": [
    "df_lst = [income, poverty, education, race]\n",
    "census_data = reduce(lambda left, right: pd.merge(left, right, how=\"inner\", on=[\"City\", \"Geographic Area\"]),\n",
    "                     df_lst)\n",
    "census_data"
   ]
  },
  {
   "cell_type": "code",
   "execution_count": 10,
   "metadata": {},
   "outputs": [
    {
     "data": {
      "text/html": [
       "<div>\n",
       "<style scoped>\n",
       "    .dataframe tbody tr th:only-of-type {\n",
       "        vertical-align: middle;\n",
       "    }\n",
       "\n",
       "    .dataframe tbody tr th {\n",
       "        vertical-align: top;\n",
       "    }\n",
       "\n",
       "    .dataframe thead th {\n",
       "        text-align: right;\n",
       "    }\n",
       "</style>\n",
       "<table border=\"1\" class=\"dataframe\">\n",
       "  <thead>\n",
       "    <tr style=\"text-align: right;\">\n",
       "      <th></th>\n",
       "      <th>Median Income</th>\n",
       "      <th>poverty_rate</th>\n",
       "      <th>percent_completed_hs</th>\n",
       "      <th>share_white</th>\n",
       "      <th>share_black</th>\n",
       "      <th>share_native_american</th>\n",
       "      <th>share_asian</th>\n",
       "      <th>share_hispanic</th>\n",
       "      <th>police_killing</th>\n",
       "    </tr>\n",
       "  </thead>\n",
       "  <tbody>\n",
       "    <tr>\n",
       "      <th>0</th>\n",
       "      <td>11207</td>\n",
       "      <td>78.8</td>\n",
       "      <td>21.2</td>\n",
       "      <td>67.2</td>\n",
       "      <td>30.2</td>\n",
       "      <td>0.0</td>\n",
       "      <td>0.0</td>\n",
       "      <td>1.6</td>\n",
       "      <td>0.0</td>\n",
       "    </tr>\n",
       "    <tr>\n",
       "      <th>1</th>\n",
       "      <td>25615</td>\n",
       "      <td>29.1</td>\n",
       "      <td>69.1</td>\n",
       "      <td>54.4</td>\n",
       "      <td>41.4</td>\n",
       "      <td>0.1</td>\n",
       "      <td>1.0</td>\n",
       "      <td>3.1</td>\n",
       "      <td>1.0</td>\n",
       "    </tr>\n",
       "    <tr>\n",
       "      <th>2</th>\n",
       "      <td>42575</td>\n",
       "      <td>25.5</td>\n",
       "      <td>78.9</td>\n",
       "      <td>52.3</td>\n",
       "      <td>44.9</td>\n",
       "      <td>0.5</td>\n",
       "      <td>0.3</td>\n",
       "      <td>2.3</td>\n",
       "      <td>0.0</td>\n",
       "    </tr>\n",
       "    <tr>\n",
       "      <th>3</th>\n",
       "      <td>37083</td>\n",
       "      <td>30.7</td>\n",
       "      <td>81.4</td>\n",
       "      <td>99.1</td>\n",
       "      <td>0.1</td>\n",
       "      <td>0.0</td>\n",
       "      <td>0.1</td>\n",
       "      <td>0.4</td>\n",
       "      <td>0.0</td>\n",
       "    </tr>\n",
       "    <tr>\n",
       "      <th>4</th>\n",
       "      <td>21667</td>\n",
       "      <td>42.0</td>\n",
       "      <td>68.6</td>\n",
       "      <td>13.2</td>\n",
       "      <td>86.5</td>\n",
       "      <td>0.0</td>\n",
       "      <td>0.0</td>\n",
       "      <td>0.3</td>\n",
       "      <td>0.0</td>\n",
       "    </tr>\n",
       "    <tr>\n",
       "      <th>...</th>\n",
       "      <td>...</td>\n",
       "      <td>...</td>\n",
       "      <td>...</td>\n",
       "      <td>...</td>\n",
       "      <td>...</td>\n",
       "      <td>...</td>\n",
       "      <td>...</td>\n",
       "      <td>...</td>\n",
       "      <td>...</td>\n",
       "    </tr>\n",
       "    <tr>\n",
       "      <th>30515</th>\n",
       "      <td>34984</td>\n",
       "      <td>12.0</td>\n",
       "      <td>92.7</td>\n",
       "      <td>95.1</td>\n",
       "      <td>0.1</td>\n",
       "      <td>0.4</td>\n",
       "      <td>0.7</td>\n",
       "      <td>7.4</td>\n",
       "      <td>0.0</td>\n",
       "    </tr>\n",
       "    <tr>\n",
       "      <th>30517</th>\n",
       "      <td>94792</td>\n",
       "      <td>2.9</td>\n",
       "      <td>100.0</td>\n",
       "      <td>97.5</td>\n",
       "      <td>0.2</td>\n",
       "      <td>0.3</td>\n",
       "      <td>0.8</td>\n",
       "      <td>1.8</td>\n",
       "      <td>0.0</td>\n",
       "    </tr>\n",
       "    <tr>\n",
       "      <th>30519</th>\n",
       "      <td>41523</td>\n",
       "      <td>15.3</td>\n",
       "      <td>85.6</td>\n",
       "      <td>89.9</td>\n",
       "      <td>0.3</td>\n",
       "      <td>1.3</td>\n",
       "      <td>0.6</td>\n",
       "      <td>16.6</td>\n",
       "      <td>0.0</td>\n",
       "    </tr>\n",
       "    <tr>\n",
       "      <th>30520</th>\n",
       "      <td>77114</td>\n",
       "      <td>5.9</td>\n",
       "      <td>89.2</td>\n",
       "      <td>94.5</td>\n",
       "      <td>0.1</td>\n",
       "      <td>1.4</td>\n",
       "      <td>0.2</td>\n",
       "      <td>6.2</td>\n",
       "      <td>0.0</td>\n",
       "    </tr>\n",
       "    <tr>\n",
       "      <th>30521</th>\n",
       "      <td>37500</td>\n",
       "      <td>5.4</td>\n",
       "      <td>79.4</td>\n",
       "      <td>97.4</td>\n",
       "      <td>0.0</td>\n",
       "      <td>0.0</td>\n",
       "      <td>0.0</td>\n",
       "      <td>4.0</td>\n",
       "      <td>0.0</td>\n",
       "    </tr>\n",
       "  </tbody>\n",
       "</table>\n",
       "<p>28549 rows × 9 columns</p>\n",
       "</div>"
      ],
      "text/plain": [
       "      Median Income  poverty_rate  percent_completed_hs  share_white  \\\n",
       "0             11207          78.8                  21.2         67.2   \n",
       "1             25615          29.1                  69.1         54.4   \n",
       "2             42575          25.5                  78.9         52.3   \n",
       "3             37083          30.7                  81.4         99.1   \n",
       "4             21667          42.0                  68.6         13.2   \n",
       "...             ...           ...                   ...          ...   \n",
       "30515         34984          12.0                  92.7         95.1   \n",
       "30517         94792           2.9                 100.0         97.5   \n",
       "30519         41523          15.3                  85.6         89.9   \n",
       "30520         77114           5.9                  89.2         94.5   \n",
       "30521         37500           5.4                  79.4         97.4   \n",
       "\n",
       "       share_black  share_native_american  share_asian  share_hispanic  \\\n",
       "0             30.2                    0.0          0.0             1.6   \n",
       "1             41.4                    0.1          1.0             3.1   \n",
       "2             44.9                    0.5          0.3             2.3   \n",
       "3              0.1                    0.0          0.1             0.4   \n",
       "4             86.5                    0.0          0.0             0.3   \n",
       "...            ...                    ...          ...             ...   \n",
       "30515          0.1                    0.4          0.7             7.4   \n",
       "30517          0.2                    0.3          0.8             1.8   \n",
       "30519          0.3                    1.3          0.6            16.6   \n",
       "30520          0.1                    1.4          0.2             6.2   \n",
       "30521          0.0                    0.0          0.0             4.0   \n",
       "\n",
       "       police_killing  \n",
       "0                 0.0  \n",
       "1                 1.0  \n",
       "2                 0.0  \n",
       "3                 0.0  \n",
       "4                 0.0  \n",
       "...               ...  \n",
       "30515             0.0  \n",
       "30517             0.0  \n",
       "30519             0.0  \n",
       "30520             0.0  \n",
       "30521             0.0  \n",
       "\n",
       "[28549 rows x 9 columns]"
      ]
     },
     "execution_count": 10,
     "metadata": {},
     "output_type": "execute_result"
    }
   ],
   "source": [
    "data = pd.merge(census_data, killing, how=\"left\", left_on=[\"City\", \"Geographic Area\"], right_on=[\"city\", \"state\"])\n",
    "data[\"police_killing\"] = data[\"police_killing\"].fillna(0)\n",
    "data = data.drop(columns=[\"Geographic Area\", \"City\", \"city\", \"state\"]).dropna()\n",
    "data"
   ]
  },
  {
   "cell_type": "code",
   "execution_count": 11,
   "metadata": {},
   "outputs": [
    {
     "data": {
      "text/plain": [
       "0.0    27207\n",
       "1.0     1342\n",
       "Name: police_killing, dtype: int64"
      ]
     },
     "execution_count": 11,
     "metadata": {},
     "output_type": "execute_result"
    }
   ],
   "source": [
    "data[\"police_killing\"].value_counts()"
   ]
  },
  {
   "cell_type": "code",
   "execution_count": 12,
   "metadata": {},
   "outputs": [],
   "source": [
    "# data.to_csv(\"data.csv\", index=False)"
   ]
  },
  {
   "cell_type": "markdown",
   "metadata": {},
   "source": [
    "## Baseline scikit-learn Model"
   ]
  },
  {
   "cell_type": "code",
   "execution_count": 13,
   "metadata": {},
   "outputs": [],
   "source": [
    "from sklearn.model_selection import train_test_split\n",
    "from sklearn.svm import SVC\n",
    "from sklearn.pipeline import make_pipeline\n",
    "from sklearn.preprocessing import StandardScaler\n",
    "from sklearn.metrics import confusion_matrix"
   ]
  },
  {
   "cell_type": "code",
   "execution_count": 14,
   "metadata": {},
   "outputs": [],
   "source": [
    "data.loc[data[\"Median Income\"] == \"2,500-\", \"Median Income\"] = \"2500\"\n",
    "data.loc[data[\"Median Income\"] == \"250,000+\", \"Median Income\"] = \"250000\"\n",
    "data[\"Median Income\"] = data[\"Median Income\"].astype(int)"
   ]
  },
  {
   "cell_type": "code",
   "execution_count": 15,
   "metadata": {},
   "outputs": [],
   "source": [
    "y = data.iloc[:, -1]\n",
    "X = data.iloc[:, 0:-1]"
   ]
  },
  {
   "cell_type": "code",
   "execution_count": 16,
   "metadata": {},
   "outputs": [],
   "source": [
    "X_train, X_test, y_train, y_test = train_test_split(X, y, test_size=0.04, random_state=42)\n",
    "y_train_keep = y_train[y_train == 1]\n",
    "X_train_keep = X_train[y_train == 1]\n",
    "y_train_resample = y_train[y_train != 1]\n",
    "X_train_resample = X_train[y_train != 1]\n",
    "X_train_resample, _, y_train_resample, _ = train_test_split(X_train_resample, y_train_resample, \n",
    "                                                            test_size = 0.95, random_state=42)\n",
    "X_train = pd.concat([X_train_keep, X_train_resample])\n",
    "y_train = np.concatenate([y_train_keep, y_train_resample])"
   ]
  },
  {
   "cell_type": "code",
   "execution_count": 17,
   "metadata": {},
   "outputs": [],
   "source": [
    "svm = make_pipeline(StandardScaler(), SVC(C = 0.7, kernel = \"poly\", degree = 2))\n",
    "svm.fit(X_train, y_train)\n",
    "y_pred = svm.predict(X_test)"
   ]
  },
  {
   "cell_type": "code",
   "execution_count": 18,
   "metadata": {},
   "outputs": [
    {
     "data": {
      "text/plain": [
       "array([[720, 376],\n",
       "       [ 18,  28]])"
      ]
     },
     "execution_count": 18,
     "metadata": {},
     "output_type": "execute_result"
    }
   ],
   "source": [
    "conf_mat = confusion_matrix(y_test, y_pred)\n",
    "conf_mat"
   ]
  },
  {
   "cell_type": "code",
   "execution_count": 19,
   "metadata": {},
   "outputs": [
    {
     "data": {
      "text/plain": [
       "0.06930693069306931"
      ]
     },
     "execution_count": 19,
     "metadata": {},
     "output_type": "execute_result"
    }
   ],
   "source": [
    "# Precision\n",
    "conf_mat[1, 1]/(conf_mat[0, 1] + conf_mat[1, 1])"
   ]
  },
  {
   "cell_type": "code",
   "execution_count": 20,
   "metadata": {},
   "outputs": [
    {
     "data": {
      "text/plain": [
       "0.6086956521739131"
      ]
     },
     "execution_count": 20,
     "metadata": {},
     "output_type": "execute_result"
    }
   ],
   "source": [
    "# Recall\n",
    "conf_mat[1, 1]/(conf_mat[1, 0] + conf_mat[1, 1])"
   ]
  },
  {
   "cell_type": "code",
   "execution_count": 21,
   "metadata": {},
   "outputs": [
    {
     "data": {
      "text/plain": [
       "0.6549912434325744"
      ]
     },
     "execution_count": 21,
     "metadata": {},
     "output_type": "execute_result"
    }
   ],
   "source": [
    "# Accuracy\n",
    "np.trace(conf_mat)/np.sum(conf_mat)"
   ]
  }
 ],
 "metadata": {
  "kernelspec": {
   "display_name": "Python 3",
   "language": "python",
   "name": "python3"
  },
  "language_info": {
   "codemirror_mode": {
    "name": "ipython",
    "version": 3
   },
   "file_extension": ".py",
   "mimetype": "text/x-python",
   "name": "python",
   "nbconvert_exporter": "python",
   "pygments_lexer": "ipython3",
   "version": "3.8.3"
  }
 },
 "nbformat": 4,
 "nbformat_minor": 4
}
